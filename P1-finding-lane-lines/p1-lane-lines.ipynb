{
 "cells": [
  {
   "cell_type": "markdown",
   "metadata": {},
   "source": [
    "# Project: **Finding Lane Lines on the Road** "
   ]
  },
  {
   "cell_type": "markdown",
   "metadata": {},
   "source": [
    "## Import Packages"
   ]
  },
  {
   "cell_type": "code",
   "execution_count": null,
   "metadata": {},
   "outputs": [],
   "source": [
    "#importing some useful packages\n",
    "import matplotlib.pyplot as plt\n",
    "import matplotlib.image as mpimg\n",
    "import numpy as np\n",
    "import cv2"
   ]
  },
  {
   "cell_type": "code",
   "execution_count": null,
   "metadata": {},
   "outputs": [],
   "source": [
    "# Import everything needed to edit/save/watch video clips\n",
    "from moviepy.editor import VideoFileClip\n",
    "from IPython.display import HTML"
   ]
  },
  {
   "cell_type": "markdown",
   "metadata": {},
   "source": [
    "## My Helper Functions"
   ]
  },
  {
   "cell_type": "markdown",
   "metadata": {},
   "source": [
    "Below are some helper functions to help get you started. They should look familiar from the lesson!"
   ]
  },
  {
   "cell_type": "code",
   "execution_count": null,
   "metadata": {},
   "outputs": [],
   "source": [
    "def compute_x_given_y(line, y):\n",
    "    # Given a line, solve for x when y is specified\n",
    "    # (y - y1) / (y2 - y1) = (x - x1) / (x2 - x1)\n",
    "\n",
    "    x1 = line[0][0]\n",
    "    x2 = line[0][2]\n",
    "    y1 = line[0][1]\n",
    "    y2 = line[0][3]\n",
    "    ret = np.array([x1 + (y - y1) * (x2 - x1) / (y2 - y1), y])\n",
    "    return ret\n",
    "\n",
    "\n",
    "def fit_line(line, y_bottom, y_top):\n",
    "    # Extend line from y_bottom to y_top\n",
    "\n",
    "    coordinate_bottom = compute_x_given_y(line, y_bottom)\n",
    "    coordinate_top = compute_x_given_y(line, y_top)\n",
    "\n",
    "    return np.array([[coordinate_bottom[0], coordinate_bottom[1], coordinate_top[0], coordinate_top[1]]])\n",
    "\n",
    "def get_slope(line):\n",
    "    # Get the slope of the line\n",
    "\n",
    "    x1 = line[0][0]\n",
    "    x2 = line[0][2]\n",
    "    y1 = line[0][1]\n",
    "    y2 = line[0][3]\n",
    "\n",
    "    return (y2 - y1) / (x2 - x1)\n",
    "\n",
    "\n",
    "def draw_lines(img, lines, y_coordinates, color=[255, 0, 0], thickness=10):\n",
    "    \"\"\"\n",
    "    NOTE: this is the function you might want to use as a starting point once you want to\n",
    "    average/extrapolate the line segments you detect to map out the full\n",
    "    extent of the lane (going from the result shown in raw-lines-example.mp4\n",
    "    to that shown in P1_example.mp4).\n",
    "\n",
    "    Think about things like separating line segments by their\n",
    "    slope ((y2-y1)/(x2-x1)) to decide which segments are part of the left\n",
    "    line vs. the right line.  Then, you can average the position of each of\n",
    "    the lines and extrapolate to the top and bottom of the lane.\n",
    "\n",
    "    This function draws `lines` with `color` and `thickness`.\n",
    "    Lines are drawn on the image inplace (mutates the image).\n",
    "    If you want to make the lines semi-transparent, think about combining\n",
    "    this function with the weighted_img() function below\n",
    "    \"\"\"\n",
    "\n",
    "    # sort the lines by their length computing the norm of each line\n",
    "    lines = sorted(lines, key=lambda x: np.linalg.norm(x[0][2:] - x[0][:2]), reverse=True)\n",
    "\n",
    "    # extend the lines to the bottom and top of the masked image\n",
    "    lines = [fit_line(line, y_coordinates[0], y_coordinates[1]) for line in lines]\n",
    "\n",
    "    selected_lines = [lines[0]]\n",
    "    m0 = get_slope(lines[0])\n",
    "\n",
    "    # the second line is the longest line with opposite slope of the first line\n",
    "    for line in lines:\n",
    "        m1 = get_slope(line)\n",
    "        if np.sign(m1) != np.sign(m0):\n",
    "            # get the top endpoints of the lines\n",
    "            selected_lines.append(fit_line(line, y_coordinates[0], y_coordinates[1]))\n",
    "            break\n",
    "\n",
    "    # for line in lines:\n",
    "    for line in selected_lines:\n",
    "        for x1, y1, x2, y2 in line.astype(np.uint16):\n",
    "            cv2.line(img, (x1, y1), (x2, y2), color, thickness)"
   ]
  },
  {
   "cell_type": "markdown",
   "metadata": {},
   "source": [
    "## Helper Functions"
   ]
  },
  {
   "cell_type": "code",
   "execution_count": null,
   "metadata": {},
   "outputs": [],
   "source": [
    "import math\n",
    "\n",
    "def grayscale(img):\n",
    "    \"\"\"Applies the Grayscale transform\n",
    "    This will return an image with only one color channel\n",
    "    but NOTE: to see the returned image as grayscale\n",
    "    (assuming your grayscaled image is called 'gray')\n",
    "    you should call plt.imshow(gray, cmap='gray')\"\"\"\n",
    "    return cv2.cvtColor(img, cv2.COLOR_RGB2GRAY)\n",
    "    # Or use BGR2GRAY if you read an image with cv2.imread()\n",
    "    # return cv2.cvtColor(img, cv2.COLOR_BGR2GRAY)\n",
    "    \n",
    "def canny(img, low_threshold, high_threshold):\n",
    "    \"\"\"Applies the Canny transform\"\"\"\n",
    "    return cv2.Canny(img, low_threshold, high_threshold)\n",
    "\n",
    "def gaussian_blur(img, kernel_size):\n",
    "    \"\"\"Applies a Gaussian Noise kernel\"\"\"\n",
    "    return cv2.GaussianBlur(img, (kernel_size, kernel_size), 0)\n",
    "\n",
    "def region_of_interest(img, vertices):\n",
    "    \"\"\"\n",
    "    Applies an image mask.\n",
    "    \n",
    "    Only keeps the region of the image defined by the polygon\n",
    "    formed from `vertices`. The rest of the image is set to black.\n",
    "    \"\"\"\n",
    "    #defining a blank mask to start with\n",
    "    mask = np.zeros_like(img)   \n",
    "    \n",
    "    #defining a 3 channel or 1 channel color to fill the mask with depending on the input image\n",
    "    if len(img.shape) > 2:\n",
    "        channel_count = img.shape[2]  # i.e. 3 or 4 depending on your image\n",
    "        ignore_mask_color = (255,) * channel_count\n",
    "    else:\n",
    "        ignore_mask_color = 255\n",
    "        \n",
    "    #filling pixels inside the polygon defined by \"vertices\" with the fill color    \n",
    "    cv2.fillPoly(mask, vertices, ignore_mask_color)\n",
    "    \n",
    "    #returning the image only where mask pixels are nonzero\n",
    "    masked_image = cv2.bitwise_and(img, mask)\n",
    "    return masked_image\n",
    "\n",
    "def hough_lines(img, rho, theta, threshold, min_line_len, max_line_gap):\n",
    "    \"\"\"\n",
    "    `img` should be the output of a Canny transform.\n",
    "        \n",
    "    Returns an image with hough lines drawn.\n",
    "    \"\"\"\n",
    "    lines = cv2.HoughLinesP(img, rho, theta, threshold, np.array([]), minLineLength=min_line_len, maxLineGap=max_line_gap)\n",
    "    line_img = np.zeros((img.shape[0], img.shape[1], 3), dtype=np.uint8)\n",
    "    y_coordinates = [img.shape[0], 320]\n",
    "    draw_lines(line_img, lines, y_coordinates)\n",
    "    return line_img\n",
    "\n",
    "# Python 3 has support for cool math symbols.\n",
    "\n",
    "def weighted_img(img, initial_img, α=0.8, β=1., λ=0.):\n",
    "    \"\"\"\n",
    "    `img` is the output of the hough_lines(), An image with lines drawn on it.\n",
    "    Should be a blank image (all black) with lines drawn on it.\n",
    "    \n",
    "    `initial_img` should be the image before any processing.\n",
    "    \n",
    "    The result image is computed as follows:\n",
    "    \n",
    "    initial_img * α + img * β + λ\n",
    "    NOTE: initial_img and img must be the same shape!\n",
    "    \"\"\"\n",
    "    return cv2.addWeighted(initial_img, α, img, β, λ)"
   ]
  },
  {
   "cell_type": "markdown",
   "metadata": {},
   "source": [
    "## Lane Finding Pipeline\n",
    "1. Read in and grayscale the image\n",
    "2. Define a kernel size and apply Gaussian smoothing\n",
    "3. Applying Canny Edge detection to grayscale and smoothed original image\n",
    "4. Define region of interest (only lane) using cv2.fillPoly() (ignore everything outside region of interest)\n",
    "5. Define Hough transform parameters and run Hough transform on masked edge-detected image\n",
    "6. Draw line segments on the black image\n",
    "7. Draw full extend lines extrapolated from line segments\n",
    "8. Overlap line image with original image\n"
   ]
  },
  {
   "cell_type": "markdown",
   "metadata": {},
   "source": [
    "## Test on Images\n",
    "Pipeline on directory \"test_images\"  "
   ]
  },
  {
   "cell_type": "code",
   "execution_count": null,
   "metadata": {},
   "outputs": [],
   "source": [
    "import os\n",
    "images = os.listdir(\"test_images/\")"
   ]
  },
  {
   "cell_type": "code",
   "execution_count": null,
   "metadata": {},
   "outputs": [],
   "source": [
    "# Pipeline code described above\n",
    "\n",
    "def process_image(image, show=False):\n",
    "    \n",
    "    # Generate grayscale image from original\n",
    "    gray_image = grayscale(image)\n",
    "\n",
    "    # Applying Gaussian smoothing\n",
    "    gaussian_image = gaussian_blur(gray_image, 5)\n",
    "\n",
    "    # Canny edge detection\n",
    "    edges = canny(gaussian_image, 50, 150)\n",
    "\n",
    "    # Define region of interest\n",
    "    vertices = np.array([[(0, image.shape[0]), (465, 320), (475, 320), (image.shape[1], image.shape[0])]],\n",
    "                        dtype=np.int32)\n",
    "    # Applying region of interest to Canny Edge output\n",
    "    masked_edges = region_of_interest(edges, vertices)\n",
    "\n",
    "    # Hough lines\n",
    "    rho = 1               # distance resolution in pixels of the Hough grid\n",
    "    theta = np.pi / 180   # angular resolution in radians of the Hough grid\n",
    "    threshold = 20        # minimum number of votes (intersections in Hough grid cell)\n",
    "    min_line_length = 40  # minimum number of pixels making up a line\n",
    "    max_line_gap = 100    # maximum gap in pixels between connectable line segments\n",
    "    img_lines = hough_lines(masked_edges, rho, theta, threshold, min_line_length, max_line_gap)\n",
    "\n",
    "    # Draw lines in red on original image\n",
    "    final = weighted_img(img_lines, image)\n",
    "\n",
    "    if show:\n",
    "        plt.figure()\n",
    "        plt.subplot(2, 2, 1)\n",
    "        plt.imshow(gray_image, cmap=\"gray\")\n",
    "        plt.title('Grayscale')\n",
    "        plt.axis('off')\n",
    "\n",
    "        plt.subplot(2, 2, 2)\n",
    "        plt.imshow(cv2.cvtColor(masked_edges, cv2.COLOR_GRAY2BGR))\n",
    "        plt.title('Canny Edge')\n",
    "        plt.axis('off')\n",
    "\n",
    "        plt.subplot(2, 2, 3)\n",
    "        plt.imshow(img_lines)\n",
    "        plt.title('Hough Transform')\n",
    "        plt.axis('off')\n",
    "\n",
    "        plt.subplot(2, 2, 4)\n",
    "        plt.imshow(final)\n",
    "        plt.title('Final')\n",
    "        plt.axis('off')\n",
    "\n",
    "    return final"
   ]
  },
  {
   "cell_type": "code",
   "execution_count": null,
   "metadata": {},
   "outputs": [],
   "source": [
    "for img in images:\n",
    "    # reading in an image\n",
    "    image = mpimg.imread(\"test_images/\"+img)\n",
    "    process_image(image, True)\n",
    "    print(\"*********** \"+img+\" ***********\")\n",
    "    plt.show()"
   ]
  },
  {
   "cell_type": "markdown",
   "metadata": {},
   "source": [
    "## Test on Videos\n",
    "\n",
    "Now we are going to draw lanes over video!\n",
    "\n",
    "`solidWhiteRight.mp4`"
   ]
  },
  {
   "cell_type": "markdown",
   "metadata": {},
   "source": [
    "Let's try the one with the solid white lane on the right first ..."
   ]
  },
  {
   "cell_type": "code",
   "execution_count": null,
   "metadata": {},
   "outputs": [],
   "source": [
    "white_output = 'test_videos_output/solidWhiteRight.mp4'\n",
    "clip1 = VideoFileClip(\"test_videos/solidWhiteRight.mp4\")\n",
    "white_clip = clip1.fl_image(process_image) #NOTE: this function expects color images!!\n",
    "white_clip.write_videofile(white_output, audio=False)"
   ]
  },
  {
   "cell_type": "code",
   "execution_count": null,
   "metadata": {},
   "outputs": [],
   "source": [
    "HTML(\"\"\"\n",
    "<video width=\"960\" height=\"540\" controls>\n",
    "  <source src=\"{0}\">\n",
    "</video>\n",
    "\"\"\".format(white_output))"
   ]
  },
  {
   "cell_type": "markdown",
   "metadata": {},
   "source": [
    "`solidYellowLeft.mp4`"
   ]
  },
  {
   "cell_type": "code",
   "execution_count": null,
   "metadata": {},
   "outputs": [],
   "source": [
    "yellow_output = 'test_videos_output/solidYellowLeft.mp4'\n",
    "clip2 = VideoFileClip('test_videos/solidYellowLeft.mp4')\n",
    "yellow_clip = clip2.fl_image(process_image)\n",
    "yellow_clip.write_videofile(yellow_output, audio=False)"
   ]
  },
  {
   "cell_type": "code",
   "execution_count": null,
   "metadata": {},
   "outputs": [],
   "source": [
    "HTML(\"\"\"\n",
    "<video width=\"960\" height=\"540\" controls>\n",
    "  <source src=\"{0}\">\n",
    "</video>\n",
    "\"\"\".format(yellow_output))"
   ]
  },
  {
   "cell_type": "markdown",
   "metadata": {
    "collapsed": true
   },
   "source": [
    "## Challenge Video"
   ]
  },
  {
   "cell_type": "code",
   "execution_count": null,
   "metadata": {},
   "outputs": [],
   "source": [
    "challenge_output = 'test_videos_output/challenge.mp4'\n",
    "clip3 = VideoFileClip('test_videos/challenge.mp4')\n",
    "challenge_clip = clip3.fl_image(process_image)\n",
    "challenge_clip.write_videofile(challenge_output, audio=False)"
   ]
  },
  {
   "cell_type": "code",
   "execution_count": null,
   "metadata": {},
   "outputs": [],
   "source": [
    "HTML(\"\"\"\n",
    "<video width=\"960\" height=\"540\" controls>\n",
    "  <source src=\"{0}\">\n",
    "</video>\n",
    "\"\"\".format(challenge_output))"
   ]
  }
 ],
 "metadata": {
  "anaconda-cloud": {},
  "kernelspec": {
   "display_name": "Python 3",
   "language": "python",
   "name": "python3"
  },
  "language_info": {
   "codemirror_mode": {
    "name": "ipython",
    "version": 3
   },
   "file_extension": ".py",
   "mimetype": "text/x-python",
   "name": "python",
   "nbconvert_exporter": "python",
   "pygments_lexer": "ipython3",
   "version": "3.5.2"
  },
  "widgets": {
   "state": {},
   "version": "1.1.2"
  }
 },
 "nbformat": 4,
 "nbformat_minor": 1
}
